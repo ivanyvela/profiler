


# import necessary packages
import sys
import matplotlib
import matplotlib.pyplot as plt
import numpy as np
from glob import glob
import os

sys.path.append('../src/profiler')
import profiler as profiler

# set matplotlib font size
font = {'size': 10}
matplotlib.rc('font', **font)


# set paths to Endelave model files
ttem_path = "../data/tem/Endelave_tTEM.xyz"
walktem_path = "../data/tem/Endelave_walkTEM.xyz"


# create model object and import ttem data
model = profiler.Model()

# populate model object with dictionaries of ttem data
# dictionaries are appended into a list, importing a dataset twice will simply append it to the list.
# to remove data sets a new model object can be created

model.loadXYZ(ttem_path, mod_name='Endelave_tTEM', model_type='tTEM')


# write a small function to query the model object
def getModelInfo(model):
    
    print("You have %d tTEM model(s)." % len(model.ttem_models))
    
    print("You have %d sTEM model(s)." % len(model.stem_models))

    for i in range(len(model.ttem_models)):

        print("tTEM model %d has %d sounding(s), each with %d layers." % (i, model.ttem_models[i]['rhos'].shape[0],
                                                                          model.ttem_models[i]['rhos'].shape[1]))
        
    for i in range(len(model.stem_models)):

        print("sTEM model %d has %d sounding(s), each with %d layers." % (i, model.stem_models[i]['rhos'].shape[0],
                                                                          model.stem_models[i]['rhos'].shape[1]))
getModelInfo(model)


# TEM data is stored in a dictionary, you can see the information that is stored by doing as as follows
model.ttem_models


# now we add the walkTEM data, we could also add additional ttem models if we wanted
model.loadXYZ(walktem_path, mod_name='walkTEM_Endelave', model_type='sTEM')
getModelInfo(model) #the name of the instrument is given by the output of workbench





# create a list of the borehole excel files 
borehole_excel = glob("../data/boreholes"+"/*.xlsx")
model.loadBoreholes(borehole_excel, file_type='xlsx')

#check what it looks like
model.boreholes[0]


# as with the tem models, boreholes are appended into a list of dictionaries
# we can clear the boreholes as follows, and reload from the .dat files

model.boreholes = []

# get a list of all the borehole paths
borehole_paths = glob("../data/boreholes"+"/*.dat")

#load from .dat files
model.loadBoreholes(borehole_paths)


# boreholes are also stored as a list of dictionaries, the endelave ones are taken directly from jupiter databases.
model.boreholes[0]





prof_coord_paths = glob('../data/profiles' + '/prof*.csv')

# profile coords are saved as a list of dictionaries
model.loadProfileCoords(prof_coord_paths, file_type='csv')

# we will load the last profile coordinates again so that we can check some of the settings below, the function expects a list...
model.loadProfileCoords([prof_coord_paths[-1]], file_type='csv')


# now we will interpolate the ttem data onto the profile using idw.
# we can specify an interpolation radius, this is the maximum distance a point can be from the profile
# model spacing is the lateral discretization of models along the profile in metres.
# ttem model idx is the ttem model we wish to put on our model.
# profile idx is the profile coordinates we want to use, default is all

model.createProfiles(ttem_model_idx=0, profile_idx = 'all', interp_radius=20, model_spacing=50) 


#we will redo the profile creation for the last set of profile coordinates
model.createProfiles(ttem_model_idx=0, profile_idx = [-1], interp_radius=50, model_spacing=100) 


# Now we can create a plot object to plot the models
# background can be 'imagery' or 'osm'
plot = profiler.Plot(model)

fig, ax = plt.subplots(1, 1, figsize=(5,5))

#plot.profileMap(ax=ax, background='osm')
#plot.profileMap(ax=ax, background='imagery')

fig.tight_layout()


fig, ax = plt.subplots(1, 1, figsize=(10,5))

scale = 10
vmin=1; vmax=500
plot.TEMProfile(profile_idx=0, cmap=plt.cm.turbo, zmin=-90, zmax=10, ax=ax, scale=scale, cbar_orientation='horizontal', vmax=vmax)
plot.addTEMSoundings(profile_idx=0, stem_model_idx=0, search_radius=100, ax=ax, print_msg=False, vmax=vmax)
plot.addBoreholes(profile_idx=0, ax=ax, print_msg=True)


# in the plot below we can compare model discretization

fig, axs = plt.subplots(2, 1, figsize=(10,5))
scale = 10
vmin=1; vmax=500

plot.TEMProfile(profile_idx=-2, cmap=plt.cm.turbo, zmin=-90, zmax=10, ax=axs[0], scale=scale, vmax=vmax)
plot.addTEMSoundings(profile_idx=-2, stem_model_idx=0, search_radius=100, ax=axs[0], print_msg=False, vmax=vmax)
plot.addBoreholes(profile_idx=-2, ax=axs[0], print_msg=False)

plot.TEMProfile(profile_idx=-1, cmap=plt.cm.turbo, zmin=-90, zmax=10, ax=axs[1], scale=scale, vmax=vmax)
plot.addTEMSoundings(profile_idx=-1, stem_model_idx=0, search_radius=100, ax=axs[1], print_msg=False, vmax=vmax)
plot.addBoreholes(profile_idx=-1, ax=axs[1], print_msg=False)


bh_idx = 0
profile_idx = 0
dist_threshold = 100

bh_idxs = []
sounding_idxs = []
for i, bh in enumerate(model.boreholes):
    min_dist, sounding_idx = plot.findNearest(bh, 
                                              model.profiles[profile_idx]['x'], 
                                              model.profiles[profile_idx]['y'])[2:]
    
    if min_dist < dist_threshold:
        bh_idxs.append(i)
        sounding_idxs.append(sounding_idx)

print('%d boreholes were sucessfuly paired with a TEM sounding' % len(bh_idxs))


if len(bh_idxs) > 4:
    ncols = len(bh_idxs) // 2
    nrows = 2
    fig, axs = plt.subplots(nrows, ncols, figsize=(2*ncols,3*nrows))

else:
    ncols = len(bh_idxs)
    fig, axs = plt.subplots(1, ncols, figsize=(2*ncols,3), sharex=True, sharey=True)

axs = axs.flatten()

for i, ax in enumerate(axs):
    
    plot.TEMSounding(model_type = 'tTEM', model_idx=0, sounding_idx=sounding_idxs[i], ax=ax, vmax=100)

    plot.addBorehole(bh_idx=bh_idxs[i], ax=ax, bh_width=0.17)
    
    #ax.

fig.tight_layout()
