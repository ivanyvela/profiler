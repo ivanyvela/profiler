{
 "cells": [
  {
   "cell_type": "markdown",
   "id": "7020101f-7b3f-4be1-b8f1-f2e7cc1291b4",
   "metadata": {},
   "source": [
    "## Using profile plotter with Endelave data\n",
    "\n",
    "- This short tutorial indicates how to create TEM profiles.\n",
    "- It handles the importing of tTEM, sTEM and borehole data.\n",
    "- Profile transects can also be supplied as numpy arrays, or can be read from .shp or .csv files\n",
    "\n",
    "The plotting tool is set around a model object and a plotting object. The model object first needs to be created. In future the model object will also be able to be populated with ERT/NMR/IP model data."
   ]
  },
  {
   "cell_type": "code",
   "execution_count": 1,
   "id": "c1827f63-db5a-41d3-a3de-3b7591a7a1d8",
   "metadata": {},
   "outputs": [
    {
     "name": "stderr",
     "output_type": "stream",
     "text": [
      "C:\\Users\\au701230\\AppData\\Local\\Programs\\Python\\Python39\\lib\\site-packages\\requests-2.26.0-py3.9.egg\\requests\\__init__.py:102: RequestsDependencyWarning: urllib3 (1.26.7) or chardet (5.1.0)/charset_normalizer (2.0.8) doesn't match a supported version!\n",
      "  warnings.warn(\"urllib3 ({}) or chardet ({})/charset_normalizer ({}) doesn't match a supported \"\n"
     ]
    }
   ],
   "source": [
    "# import necessary packages\n",
    "import sys\n",
    "import matplotlib\n",
    "import matplotlib.pyplot as plt\n",
    "import numpy as np\n",
    "from glob import glob\n",
    "import os\n",
    "\n",
    "sys.path.append('../src/profiler')\n",
    "import profiler as profiler\n",
    "\n",
    "# set matplotlib font size\n",
    "font = {'size': 10}\n",
    "matplotlib.rc('font', **font)"
   ]
  },
  {
   "cell_type": "code",
   "execution_count": 2,
   "id": "6d1f159a-32d1-48cb-82da-eddd051595ec",
   "metadata": {},
   "outputs": [],
   "source": [
    "# set paths to Endelave model files\n",
    "ttem_path = r\"C:\\Users\\au701230\\OneDrive - Aarhus Universitet\\Documents\\Projects\\South Africa\\paper\\SCI_all_I01_MOD_inv.xyz\""
   ]
  },
  {
   "cell_type": "code",
   "execution_count": 3,
   "id": "fb999be5-8218-4a41-8af7-25f8fd279f5b",
   "metadata": {},
   "outputs": [],
   "source": [
    "# create model object and import ttem data\n",
    "model = profiler.Model()\n",
    "\n",
    "# populate model object with dictionaries of ttem data\n",
    "# dictionaries are appended into a list, importing a dataset twice will simply append it to the list.\n",
    "# to remove data sets a new model object can be created\n",
    "\n",
    "model.loadXYZ(ttem_path, mod_name='SouthAfrica_tTEM', model_type='tTEM')"
   ]
  },
  {
   "cell_type": "code",
   "execution_count": 4,
   "id": "6d5793fe-b531-46f6-b983-613160fb9e46",
   "metadata": {},
   "outputs": [
    {
     "name": "stdout",
     "output_type": "stream",
     "text": [
      "You have 1 tTEM model(s).\n",
      "You have 0 sTEM model(s).\n",
      "tTEM model 0 has 24342 sounding(s), each with 30 layers.\n"
     ]
    }
   ],
   "source": [
    "# write a small function to query the model object\n",
    "def getModelInfo(model):\n",
    "    \n",
    "    print(\"You have %d tTEM model(s).\" % len(model.ttem_models))\n",
    "    \n",
    "    print(\"You have %d sTEM model(s).\" % len(model.stem_models))\n",
    "\n",
    "    for i in range(len(model.ttem_models)):\n",
    "\n",
    "        print(\"tTEM model %d has %d sounding(s), each with %d layers.\" % (i, model.ttem_models[i]['rhos'].shape[0],\n",
    "                                                                          model.ttem_models[i]['rhos'].shape[1]))\n",
    "        \n",
    "    for i in range(len(model.stem_models)):\n",
    "\n",
    "        print(\"sTEM model %d has %d sounding(s), each with %d layers.\" % (i, model.stem_models[i]['rhos'].shape[0],\n",
    "                                                                          model.stem_models[i]['rhos'].shape[1]))\n",
    "getModelInfo(model)"
   ]
  },
  {
   "cell_type": "code",
   "execution_count": 5,
   "id": "305aeae1-5b8a-4f94-928b-20d1fe8397d5",
   "metadata": {},
   "outputs": [
    {
     "data": {
      "text/plain": [
       "[{'instrument': 'TTEM',\n",
       "  'epsg': 'epsg:32632',\n",
       "  'mod_name': 'Endelave_tTEM',\n",
       "  'x': array([582013.    , 582006.25  , 581998.875 , ..., 582715.25  ,\n",
       "         582721.5   , 582737.9375]),\n",
       "  'y': array([6179134.5, 6179138.5, 6179144.5, ..., 6182913.5, 6182906. ,\n",
       "         6182889. ]),\n",
       "  'elev': array([3.2, 3.2, 3.2, ..., 1.1, 1.2, 1.1]),\n",
       "  'rhos': array([[41.38, 41.93, 43.29, ..., 21.45, 27.39, 31.65],\n",
       "         [41.76, 42.36, 43.71, ..., 21.47, 27.42, 31.82],\n",
       "         [42.6 , 43.23, 44.52, ..., 21.45, 27.4 , 31.77],\n",
       "         ...,\n",
       "         [15.38, 15.04, 15.79, ..., 23.86, 29.7 , 33.89],\n",
       "         [15.63, 14.95, 15.54, ..., 23.79, 29.58, 33.82],\n",
       "         [13.33, 12.99, 13.92, ..., 24.02, 29.6 , 33.73]]),\n",
       "  'depths': array([[  1.   ,   2.088,   3.272, ...,  99.587, 109.361, 120.001],\n",
       "         [  1.   ,   2.088,   3.272, ...,  99.587, 109.361, 120.001],\n",
       "         [  1.   ,   2.088,   3.272, ...,  99.587, 109.361, 120.001],\n",
       "         ...,\n",
       "         [  1.   ,   2.088,   3.272, ...,  99.587, 109.361, 120.001],\n",
       "         [  1.   ,   2.088,   3.272, ...,  99.587, 109.361, 120.001],\n",
       "         [  1.   ,   2.088,   3.272, ...,  99.587, 109.361, 120.001]]),\n",
       "  'doi_con': array([50.741, 51.1  , 51.034, ..., 44.92 , 48.915, 47.037]),\n",
       "  'doi_standard': array([61.798, 62.213, 62.23 , ..., 58.544, 60.562, 57.148]),\n",
       "  'residual': array([0.3574, 0.6758, 0.5231, ..., 0.4559, 0.6517, 1.134 ]),\n",
       "  'line_num': array([ 100,  100,  100, ..., 8410, 8410, 8420])}]"
      ]
     },
     "execution_count": 5,
     "metadata": {},
     "output_type": "execute_result"
    }
   ],
   "source": [
    "# TEM data is stored in a dictionary, you can see the information that is stored by doing as as follows\n",
    "model.ttem_models"
   ]
  },
  {
   "cell_type": "code",
   "execution_count": 6,
   "id": "168264ad-b957-45d0-b11a-c0a94abfb0a1",
   "metadata": {},
   "outputs": [
    {
     "name": "stdout",
     "output_type": "stream",
     "text": [
      "You have 1 tTEM model(s).\n",
      "You have 1 sTEM model(s).\n",
      "tTEM model 0 has 24342 sounding(s), each with 30 layers.\n",
      "sTEM model 0 has 49 sounding(s), each with 20 layers.\n"
     ]
    }
   ],
   "source": [
    "# now we add the walkTEM data, we could also add additional ttem models if we wanted\n",
    "model.loadXYZ(walktem_path, mod_name='walkTEM_Endelave', model_type='sTEM')\n",
    "getModelInfo(model) #the name of the instrument is given by the output of workbench"
   ]
  },
  {
   "cell_type": "markdown",
   "id": "a53a5f0c-2cc8-4e51-a040-717ff99f4255",
   "metadata": {},
   "source": [
    "### Adding borehole data\n",
    "Borehole data can be stored in a text file (.dat) or an excel file (.xlsx).\n",
    "\n",
    "The .dat file should contain a row for each lithology, should be tab delimited and have the case-sensitive headers:\n",
    "\n",
    "id | utm_x | utm_y | elev | top_depths | bot_depths | lith_names | colors | lith_descriptions\n",
    "\n",
    "- id is the borehole name, it can be used to label on the plotted profiles\n",
    "- utm_x and utm_y are the utm coordinates\n",
    "- elev is the ground elevation, in most cases this will be ignored by the plotting routine, instead the elevation will be taken from the TEM models \n",
    "- top_depths is the top depth of the layer, relative to ground level. That is, the first layer should have a top_depth of 0 m.\n",
    "- bot_depths is the bottom depth of the layer, again relative to the ground level.\n",
    "- lith_names is the lithology name\n",
    "- colors is the color to be used for plotting, standard python colors (https://matplotlib.org/stable/gallery/color/named_colors.html) and hex codes will work.\n",
    "- the lith_descriptions contain a description of the layer, it can be left empty but the header should be there.\n",
    "\n",
    "The .xlsx file should have exactly the same headers, but each unique borehole should be placed on a new sheet. See example in data folder."
   ]
  },
  {
   "cell_type": "code",
   "execution_count": 7,
   "id": "1427de45-2f02-4ffd-96e6-08db44a96a74",
   "metadata": {},
   "outputs": [
    {
     "data": {
      "text/plain": [
       "{'id': 118.6,\n",
       " 'n_layers': 4,\n",
       " 'x': 581302,\n",
       " 'y': 6179286,\n",
       " 'elevation': 0,\n",
       " 'top_depths': array([0. , 2. , 2.5, 4. ]),\n",
       " 'bot_depths': array([2. , 2.5, 4. , 9. ]),\n",
       " 'colors': array(['orange', 'darkgoldenrod', 'yellow', 'yellow'], dtype=object),\n",
       " 'lith_names': array(['Gravel', 'Clay', 'Sand', 'Sand'], dtype=object)}"
      ]
     },
     "execution_count": 7,
     "metadata": {},
     "output_type": "execute_result"
    }
   ],
   "source": [
    "# create a list of the borehole excel files \n",
    "borehole_excel = glob(\"../data/boreholes\"+\"/*.xlsx\")\n",
    "model.loadBoreholes(borehole_excel, file_type='xlsx')\n",
    "\n",
    "#check what it looks like\n",
    "model.boreholes[0]"
   ]
  },
  {
   "cell_type": "code",
   "execution_count": 8,
   "id": "13412e5d-3797-4659-94b3-24a8043eb6d1",
   "metadata": {},
   "outputs": [],
   "source": [
    "# as with the tem models, boreholes are appended into a list of dictionaries\n",
    "# we can clear the boreholes as follows, and reload from the .dat files\n",
    "\n",
    "model.boreholes = []\n",
    "\n",
    "# get a list of all the borehole paths\n",
    "borehole_paths = glob(\"../data/boreholes\"+\"/*.dat\")\n",
    "\n",
    "#load from .dat files\n",
    "model.loadBoreholes(borehole_paths)"
   ]
  },
  {
   "cell_type": "code",
   "execution_count": 9,
   "id": "27856882-8f7d-484d-999d-4c67776e8d10",
   "metadata": {},
   "outputs": [
    {
     "data": {
      "text/plain": [
       "{'id': 118.1,\n",
       " 'n_layers': 5,\n",
       " 'x': 580999.0,\n",
       " 'y': 6179652.0,\n",
       " 'elevation': 5.44,\n",
       " 'top_depths': array([ 0. ,  3. , 13. , 16.5, 30.5]),\n",
       " 'bot_depths': array([ 3. , 13. , 16.5, 30.5, 33.5]),\n",
       " 'colors': array(['yellow', 'yellow', '#D9CE96', 'darkgoldenrod', 'deepskyblue'],\n",
       "       dtype=object),\n",
       " 'descriptions': 0       senglacial freshwater sand\n",
       " 1          glacial meltwater sands\n",
       " 2           glacial meltwater silt\n",
       " 3      glacial moraines (claytill)\n",
       " 4    small belt clay, plastic clay\n",
       " Name: lith_descriptions, dtype: object,\n",
       " 'lith_names': array(['Sand', 'Sand', 'Silt', 'Clay', 'Clay'], dtype=object)}"
      ]
     },
     "execution_count": 9,
     "metadata": {},
     "output_type": "execute_result"
    }
   ],
   "source": [
    "# boreholes are also stored as a list of dictionaries, the endelave ones are taken directly from jupiter databases.\n",
    "model.boreholes[0]"
   ]
  },
  {
   "cell_type": "markdown",
   "id": "6a2edd71-1307-4ff3-98b9-f056dd9d8659",
   "metadata": {},
   "source": [
    "### Adding profile coordinates\n",
    "\n",
    "The profile data can be stored in a text file (.csv) or an shape file (.shp).\n",
    "\n",
    "The .csv file should contain a table of utm x and y values, with 'x' and 'y' as headers.\n",
    "\n",
    "The .shp file should be created in either QGIS or Aarhus Workbench."
   ]
  },
  {
   "cell_type": "code",
   "execution_count": 10,
   "id": "7436504c-7fb6-49c0-a097-3c0d399fb397",
   "metadata": {},
   "outputs": [],
   "source": [
    "prof_coord_paths = glob('../data/profiles' + '/prof*.csv')\n",
    "\n",
    "# profile coords are saved as a list of dictionaries\n",
    "model.loadProfileCoords(prof_coord_paths, file_type='csv')\n",
    "\n",
    "# we will load the last profile coordinates again so that we can check some of the settings below, the function expects a list...\n",
    "model.loadProfileCoords([prof_coord_paths[-1]], file_type='csv')"
   ]
  },
  {
   "cell_type": "code",
   "execution_count": 11,
   "id": "89b9d5c1-0f36-4961-a0f8-31d20c93bf34",
   "metadata": {},
   "outputs": [
    {
     "name": "stderr",
     "output_type": "stream",
     "text": [
      "C:\\Users\\au701230\\OneDrive - Aarhus Universitet\\Desktop\\pyTEM\\pyTEM2\\profiler\\tutorial\\../src/profiler\\profiler.py:323: RuntimeWarning: invalid value encountered in divide\n",
      "  weights /= np.sum(weights, axis=0)\n"
     ]
    }
   ],
   "source": [
    "# now we will interpolate the ttem data onto the profile using idw.\n",
    "# we can specify an interpolation radius, this is the maximum distance a point can be from the profile\n",
    "# model spacing is the lateral discretization of models along the profile in metres.\n",
    "# ttem model idx is the ttem model we wish to put on our model.\n",
    "# profile idx is the profile coordinates we want to use, default is all\n",
    "\n",
    "model.createProfiles(ttem_model_idx=0, profile_idx = 'all', interp_radius=20, model_spacing=50) "
   ]
  },
  {
   "cell_type": "code",
   "execution_count": 12,
   "id": "70067be7-0de1-4a8a-acd9-73610a31e5b3",
   "metadata": {},
   "outputs": [],
   "source": [
    "#we will redo the profile creation for the last set of profile coordinates\n",
    "model.createProfiles(ttem_model_idx=0, profile_idx = [-1], interp_radius=50, model_spacing=100) "
   ]
  },
  {
   "cell_type": "code",
   "execution_count": 13,
   "id": "1a9fa641-eb96-40dc-82ae-a59ec98b7f8d",
   "metadata": {},
   "outputs": [
    {
     "data": {
      "image/png": "[encoded data removed]",
      "text/plain": [
       "<Figure size 360x360 with 1 Axes>"
      ]
     },
     "metadata": {
      "needs_background": "light"
     },
     "output_type": "display_data"
    }
   ],
   "source": [
    "# Now we can create a plot object to plot the models\n",
    "# background can be 'imagery' or 'osm'\n",
    "plot = profiler.Plot(model)\n",
    "\n",
    "fig, ax = plt.subplots(1, 1, figsize=(5,5))\n",
    "\n",
    "#plot.profileMap(ax=ax, background='osm')\n",
    "#plot.profileMap(ax=ax, background='imagery')\n",
    "\n",
    "fig.tight_layout()"
   ]
  },
  {
   "cell_type": "code",
   "execution_count": 14,
   "id": "120d0032-3bac-45a4-b2f9-ba5655bea26d",
   "metadata": {},
   "outputs": [
    {
     "name": "stdout",
     "output_type": "stream",
     "text": [
      "\u001b[1mBorehole 118.1 is 0.032 km from profile, it was included.\u001b[0m\n",
      "Borehole 118.11 is 0.836 km from profile, it was not included.\n",
      "Borehole 118.12 is 0.561 km from profile, it was not included.\n",
      "Borehole 118.13 is 0.754 km from profile, it was not included.\n",
      "\u001b[1mBorehole 118.39 is 0.053 km from profile, it was included.\u001b[0m\n",
      "Borehole 118.4 is 0.836 km from profile, it was not included.\n",
      "Borehole 118.41 is 1.111 km from profile, it was not included.\n",
      "Borehole 118.42 is 0.540 km from profile, it was not included.\n",
      "Borehole 118.43 is 0.689 km from profile, it was not included.\n",
      "Borehole 118.44 is 0.807 km from profile, it was not included.\n",
      "Borehole 118.45 is 1.153 km from profile, it was not included.\n",
      "\u001b[1mBorehole 118.47 is 0.098 km from profile, it was included.\u001b[0m\n",
      "Borehole 118.48 is 0.584 km from profile, it was not included.\n",
      "Borehole 118.53 is 0.585 km from profile, it was not included.\n",
      "Borehole 118.54 is 0.580 km from profile, it was not included.\n",
      "Borehole 118.56 is 0.586 km from profile, it was not included.\n",
      "Borehole 118.57 is 0.586 km from profile, it was not included.\n",
      "Borehole 118.58 is 0.582 km from profile, it was not included.\n",
      "Borehole 118.59 is 0.579 km from profile, it was not included.\n",
      "Borehole 118.6 is 0.426 km from profile, it was not included.\n",
      "Borehole 118.61 is 0.585 km from profile, it was not included.\n",
      "Borehole 118.62 is 0.588 km from profile, it was not included.\n",
      "Borehole 118.64 is 0.579 km from profile, it was not included.\n",
      "Borehole 118.8 is 0.265 km from profile, it was not included.\n",
      "\u001b[1mBorehole 118.9 is 0.025 km from profile, it was included.\u001b[0m\n"
     ]
    },
    {
     "data": {
      "image/png": "[encoded data removed]",
      "text/plain": [
       "<Figure size 720x360 with 2 Axes>"
      ]
     },
     "metadata": {
      "needs_background": "light"
     },
     "output_type": "display_data"
    }
   ],
   "source": [
    "fig, ax = plt.subplots(1, 1, figsize=(10,5))\n",
    "\n",
    "scale = 10\n",
    "vmin=1; vmax=500\n",
    "plot.TEMProfile(profile_idx=0, cmap=plt.cm.turbo, zmin=-90, zmax=10, ax=ax, scale=scale, cbar_orientation='horizontal', vmax=vmax)\n",
    "plot.addTEMSoundings(profile_idx=0, stem_model_idx=0, search_radius=100, ax=ax, print_msg=False, vmax=vmax)\n",
    "plot.addBoreholes(profile_idx=0, ax=ax, print_msg=True)"
   ]
  },
  {
   "cell_type": "code",
   "execution_count": null,
   "id": "f28a6216-4145-4bc7-b8ff-0e6275c1d3bb",
   "metadata": {},
   "outputs": [],
   "source": [
    "# in the plot below we can compare model discretization\n",
    "\n",
    "fig, axs = plt.subplots(2, 1, figsize=(10,5))\n",
    "scale = 10\n",
    "vmin=1; vmax=500\n",
    "\n",
    "plot.TEMProfile(profile_idx=-2, cmap=plt.cm.turbo, zmin=-90, zmax=10, ax=axs[0], scale=scale, vmax=vmax)\n",
    "plot.addTEMSoundings(profile_idx=-2, stem_model_idx=0, search_radius=100, ax=axs[0], print_msg=False, vmax=vmax)\n",
    "plot.addBoreholes(profile_idx=-2, ax=axs[0], print_msg=False)\n",
    "\n",
    "plot.TEMProfile(profile_idx=-1, cmap=plt.cm.turbo, zmin=-90, zmax=10, ax=axs[1], scale=scale, vmax=vmax)\n",
    "plot.addTEMSoundings(profile_idx=-1, stem_model_idx=0, search_radius=100, ax=axs[1], print_msg=False, vmax=vmax)\n",
    "plot.addBoreholes(profile_idx=-1, ax=axs[1], print_msg=False)"
   ]
  },
  {
   "cell_type": "code",
   "execution_count": null,
   "id": "0b09f530-0f29-42cd-a38c-3705e50be63f",
   "metadata": {},
   "outputs": [],
   "source": [
    "bh_idx = 0\n",
    "profile_idx = 0\n",
    "dist_threshold = 100\n",
    "\n",
    "bh_idxs = []\n",
    "sounding_idxs = []\n",
    "for i, bh in enumerate(model.boreholes):\n",
    "    min_dist, sounding_idx = plot.findNearest(bh, \n",
    "                                              model.profiles[profile_idx]['x'], \n",
    "                                              model.profiles[profile_idx]['y'])[2:]\n",
    "    \n",
    "    if min_dist < dist_threshold:\n",
    "        bh_idxs.append(i)\n",
    "        sounding_idxs.append(sounding_idx)\n",
    "\n",
    "print('%d boreholes were sucessfuly paired with a TEM sounding' % len(bh_idxs))"
   ]
  },
  {
   "cell_type": "code",
   "execution_count": null,
   "id": "2651a6e4-3f74-46f7-98a5-13dde8143517",
   "metadata": {},
   "outputs": [],
   "source": [
    "if len(bh_idxs) > 4:\n",
    "    ncols = len(bh_idxs) // 2\n",
    "    nrows = 2\n",
    "    fig, axs = plt.subplots(nrows, ncols, figsize=(2*ncols,3*nrows))\n",
    "\n",
    "else:\n",
    "    ncols = len(bh_idxs)\n",
    "    fig, axs = plt.subplots(1, ncols, figsize=(2*ncols,3), sharex=True, sharey=True)\n",
    "\n",
    "axs = axs.flatten()\n",
    "\n",
    "for i, ax in enumerate(axs):\n",
    "    \n",
    "    plot.TEMSounding(model_type = 'tTEM', model_idx=0, sounding_idx=sounding_idxs[i], ax=ax, vmax=100)\n",
    "\n",
    "    plot.addBorehole(bh_idx=bh_idxs[i], ax=ax, bh_width=0.17)\n",
    "    \n",
    "    #ax.\n",
    "\n",
    "fig.tight_layout()"
   ]
  }
 ],
 "metadata": {
  "kernelspec": {
   "display_name": "Python 3 (ipykernel)",
   "language": "python",
   "name": "python3"
  },
  "language_info": {
   "codemirror_mode": {
    "name": "ipython",
    "version": 3
   },
   "file_extension": ".py",
   "mimetype": "text/x-python",
   "name": "python",
   "nbconvert_exporter": "python",
   "pygments_lexer": "ipython3",
   "version": "3.9.7"
  }
 },
 "nbformat": 4,
 "nbformat_minor": 5
}
