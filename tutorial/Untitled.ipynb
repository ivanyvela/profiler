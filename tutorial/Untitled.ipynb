{
 "cells": [
  {
   "cell_type": "code",
   "execution_count": 3,
   "id": "8970914c-7ce8-4791-a801-af1c0b453aae",
   "metadata": {},
   "outputs": [],
   "source": [
    "import matplotlib.pyplot as plt\n",
    "from matplotlib.animation import FuncAnimation\n",
    "import numpy as np\n",
    "\n"
   ]
  },
  {
   "cell_type": "code",
   "execution_count": 6,
   "id": "93e09756-ae8b-433c-8b48-3500a5522d59",
   "metadata": {},
   "outputs": [],
   "source": [
    "x1 = np.linspace(0,1000)\n",
    "y1 = x1 * 0.55\n",
    "\n",
    "#plt.plot(x1, y1)"
   ]
  },
  {
   "cell_type": "code",
   "execution_count": 17,
   "id": "dafb4e75-123e-40bc-9f2c-3c2bddc90425",
   "metadata": {},
   "outputs": [],
   "source": [
    "import matplotlib\n",
    "\n",
    "font = {'size': 14}\n",
    "\n",
    "matplotlib.rc('font', **font)\n"
   ]
  },
  {
   "cell_type": "code",
   "execution_count": 23,
   "id": "e0cdab1b-b051-4aa0-8a4c-8b0abc92122c",
   "metadata": {},
   "outputs": [
    {
     "data": {
      "image/png": "[encoded data removed]",
      "text/plain": [
       "<Figure size 432x288 with 1 Axes>"
      ]
     },
     "metadata": {
      "needs_background": "light"
     },
     "output_type": "display_data"
    }
   ],
   "source": [
    "def update(i):\n",
    "    ax.clear()\n",
    "    ax.plot(x[:i+1], y[:i+1])\n",
    "    \n",
    "    ax.set_xlim(0, np.max(x))\n",
    "    ax.set_ylim(0, np.max(y))\n",
    "    \n",
    "    ax.set_ylabel('Temperature [°C]')\n",
    "    ax.set_xlabel('Time [s]')\n",
    "    \n",
    "fig, ax = plt.subplots(1, 1)\n",
    "\n",
    "x = np.linspace(0, 5)\n",
    "y = x * 200\n",
    "\n",
    "ax = ax\n",
    "ani = FuncAnimation(fig, update, frames=len(x)-1, interval=100)\n",
    "\n",
    "\n",
    "ani.save('test.gif', writer='pillow')"
   ]
  },
  {
   "cell_type": "code",
   "execution_count": 11,
   "id": "ff98b6a5-134b-4040-9a22-87ea69fbf9d1",
   "metadata": {},
   "outputs": [
    {
     "data": {
      "text/plain": [
       "'C:\\\\Users\\\\au701230\\\\OneDrive - Aarhus Universitet\\\\Desktop\\\\pyTEM\\\\pyTEM2\\\\profiler\\\\tutorial'"
      ]
     },
     "execution_count": 11,
     "metadata": {},
     "output_type": "execute_result"
    }
   ],
   "source": [
    "import os\n",
    "os.getcwd()\n"
   ]
  },
  {
   "cell_type": "code",
   "execution_count": null,
   "id": "bbd43437-8a6e-469b-bd3d-1c6ae87d67bb",
   "metadata": {},
   "outputs": [],
   "source": []
  }
 ],
 "metadata": {
  "kernelspec": {
   "display_name": "Python 3 (ipykernel)",
   "language": "python",
   "name": "python3"
  },
  "language_info": {
   "codemirror_mode": {
    "name": "ipython",
    "version": 3
   },
   "file_extension": ".py",
   "mimetype": "text/x-python",
   "name": "python",
   "nbconvert_exporter": "python",
   "pygments_lexer": "ipython3",
   "version": "3.9.7"
  }
 },
 "nbformat": 4,
 "nbformat_minor": 5
}
